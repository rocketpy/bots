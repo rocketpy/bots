{
 "cells": [
  {
   "cell_type": "code",
   "execution_count": null,
   "metadata": {},
   "outputs": [],
   "source": [
    "# https://pypi.org/project/pyTelegramBotAPI/\n",
    "# pip install pyTelegramBotAPI"
   ]
  },
  {
   "cell_type": "code",
   "execution_count": null,
   "metadata": {},
   "outputs": [],
   "source": [
    "# create a file called  echo_bot.py\n",
    "import telebot\n",
    "\n",
    "bot = telebot.TeleBot(\"TOKEN\")\n",
    "# for create a TOKEN need : open telegram , go to BotFather , write to him this command : \\newbot\n",
    "# write a name of our bot and take a new TOKEN !"
   ]
  },
  {
   "cell_type": "code",
   "execution_count": null,
   "metadata": {},
   "outputs": [],
   "source": [
    "@bot.message_handler(commands=['start', 'help'])  # use  @bot.message_handler(content_types=['text'])\n",
    "def send_message(message):\n",
    "#    bot.reply_to(message, \"How are you doing ?\")  # use  bot.reply_to(message, message.text)  \n",
    "    bot.send_message(message.chat.id, message.text)\n",
    "    \n",
    "bot.polling(none_stop=True)"
   ]
  },
  {
   "cell_type": "code",
   "execution_count": null,
   "metadata": {},
   "outputs": [],
   "source": [
    "# weather bot\n",
    "import pyowm\n",
    "import telebot\n",
    "\n",
    "\n",
    "bot = telebot.TeleBot(\"TOKEN\")\n",
    "owm = pyowm.OWM('your-API-key')\n",
    "\n",
    "@bot.message_handler(content_types=['text'])\n",
    "def send_message(message):\n",
    "    observation = owm.weather_at_place(message.text)\n",
    "    w = observation.get_weather()\n",
    "    temp = w.get_temperature('celsius')['temp']\n",
    "    answer = 'In city' + message.text + 'now is' + w.get_detailed_status() + '\\n'\n",
    "    answer += 'Now temperature is : ' + str('temp') + '\\n'\n",
    "    bot.send_message(message.chat.id, answer)\n",
    "    \n",
    "bot.polling(none_stop=True)"
   ]
  }
 ],
 "metadata": {
  "kernelspec": {
   "display_name": "Python 3",
   "language": "python",
   "name": "python3"
  },
  "language_info": {
   "codemirror_mode": {
    "name": "ipython",
    "version": 3
   },
   "file_extension": ".py",
   "mimetype": "text/x-python",
   "name": "python",
   "nbconvert_exporter": "python",
   "pygments_lexer": "ipython3",
   "version": "3.6.2"
  }
 },
 "nbformat": 4,
 "nbformat_minor": 2
}
